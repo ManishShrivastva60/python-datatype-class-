{
 "cells": [
  {
   "cell_type": "code",
   "execution_count": 1,
   "metadata": {},
   "outputs": [],
   "source": [
    "# overloading --> java support overloading\n",
    "#     > constructor overloading\n",
    "#     > method overloading"
   ]
  },
  {
   "cell_type": "code",
   "execution_count": 2,
   "metadata": {},
   "outputs": [],
   "source": [
    "# overriding -->"
   ]
  },
  {
   "cell_type": "code",
   "execution_count": 3,
   "metadata": {},
   "outputs": [],
   "source": [
    "class Runner:\n",
    "    def __init__(self):\n",
    "        print(\"this is constructor\");\n",
    "\n",
    "    def __init__(self,a):\n",
    "        print(\"this is second constructor\");\n",
    "\n",
    "    def balance_enquiry(self):\n",
    "        print(\"this is balance enquiry section\");\n",
    "\n",
    "    def balance_enquiry(self,b):\n",
    "        print(\"this is the balance enquiry section\"+b)"
   ]
  },
  {
   "cell_type": "code",
   "execution_count": 4,
   "metadata": {},
   "outputs": [
    {
     "ename": "TypeError",
     "evalue": "Runner.__init__() missing 1 required positional argument: 'a'",
     "output_type": "error",
     "traceback": [
      "\u001b[1;31m---------------------------------------------------------------------------\u001b[0m",
      "\u001b[1;31mTypeError\u001b[0m                                 Traceback (most recent call last)",
      "Cell \u001b[1;32mIn[4], line 1\u001b[0m\n\u001b[1;32m----> 1\u001b[0m \u001b[39mobject\u001b[39m\u001b[39m=\u001b[39mRunner()\n",
      "\u001b[1;31mTypeError\u001b[0m: Runner.__init__() missing 1 required positional argument: 'a'"
     ]
    }
   ],
   "source": [
    "object=Runner()"
   ]
  },
  {
   "cell_type": "code",
   "execution_count": 5,
   "metadata": {},
   "outputs": [
    {
     "name": "stdout",
     "output_type": "stream",
     "text": [
      "this is second constructor\n"
     ]
    }
   ],
   "source": [
    "object=Runner(10)"
   ]
  },
  {
   "cell_type": "code",
   "execution_count": 8,
   "metadata": {},
   "outputs": [],
   "source": [
    "class Runner:\n",
    "    \n",
    "    def __init__(self,a):\n",
    "        print(\"this is second constructor\",+a);\n",
    "    \n",
    "    def __init__(self):\n",
    "        print(\"this is constructor\");\n",
    "\n",
    "\n",
    "    def balance_enquiry(self):\n",
    "        print(\"this is balance enquiry section\");\n",
    "\n",
    "    def balance_enquiry(self,b):\n",
    "        print(\"this is the balance enquiry section\"+b)"
   ]
  },
  {
   "cell_type": "code",
   "execution_count": 9,
   "metadata": {},
   "outputs": [
    {
     "name": "stdout",
     "output_type": "stream",
     "text": [
      "this is constructor\n"
     ]
    }
   ],
   "source": [
    "object2=Runner()"
   ]
  },
  {
   "cell_type": "code",
   "execution_count": 12,
   "metadata": {},
   "outputs": [
    {
     "name": "stdout",
     "output_type": "stream",
     "text": [
      "this is the balance enquiry section10\n"
     ]
    }
   ],
   "source": [
    "object2.balance_enquiry(\"10\")"
   ]
  },
  {
   "cell_type": "code",
   "execution_count": 13,
   "metadata": {},
   "outputs": [],
   "source": [
    "class shape:\n",
    "    def area(self,a,b):\n",
    "        l=a\n",
    "        b=b\n",
    "        print(\"area of triangle:\",l*b)\n",
    "    def area(self,a):\n",
    "        r=a\n",
    "        print(\"area of circle:\",3.14*r**2)"
   ]
  },
  {
   "cell_type": "code",
   "execution_count": 14,
   "metadata": {},
   "outputs": [],
   "source": [
    "krishna=shape()"
   ]
  },
  {
   "cell_type": "code",
   "execution_count": 16,
   "metadata": {},
   "outputs": [
    {
     "name": "stdout",
     "output_type": "stream",
     "text": [
      "area of circle: 78.5\n"
     ]
    }
   ],
   "source": [
    "krishna.area(5)"
   ]
  },
  {
   "cell_type": "code",
   "execution_count": 31,
   "metadata": {},
   "outputs": [],
   "source": [
    "class shape:\n",
    "    def area(self,a):\n",
    "        r=a\n",
    "        print(\"area of circle:\",3.14*r**2)\n",
    "    def area(self,a,b):\n",
    "        l=a\n",
    "        b=b\n",
    "        print(\"area of triangle:\",l*b)\n",
    "    "
   ]
  },
  {
   "cell_type": "code",
   "execution_count": 26,
   "metadata": {},
   "outputs": [],
   "source": [
    "solid=shape()"
   ]
  },
  {
   "cell_type": "code",
   "execution_count": 27,
   "metadata": {},
   "outputs": [
    {
     "name": "stdout",
     "output_type": "stream",
     "text": [
      "area of triangle: 18\n"
     ]
    }
   ],
   "source": [
    "solid.area(3,6)"
   ]
  },
  {
   "cell_type": "code",
   "execution_count": 46,
   "metadata": {},
   "outputs": [],
   "source": [
    "class shape:\n",
    "    def area(self,a,b=0):\n",
    "        l=a\n",
    "        b=b\n",
    "        if b==0:\n",
    "\n",
    "            print(\"area of rectangle:\",l*b)\n",
    "\n",
    "            r=a\n",
    "            print(\"area of circle:\",3.14*r**2)"
   ]
  },
  {
   "cell_type": "code",
   "execution_count": 47,
   "metadata": {},
   "outputs": [],
   "source": [
    "def area (a,b=0):\n",
    "    print(a+b)"
   ]
  },
  {
   "cell_type": "code",
   "execution_count": 48,
   "metadata": {},
   "outputs": [
    {
     "name": "stdout",
     "output_type": "stream",
     "text": [
      "5\n"
     ]
    }
   ],
   "source": [
    "area(2,3)"
   ]
  },
  {
   "cell_type": "code",
   "execution_count": 49,
   "metadata": {},
   "outputs": [
    {
     "name": "stdout",
     "output_type": "stream",
     "text": [
      "12\n"
     ]
    }
   ],
   "source": [
    "area(2,10)"
   ]
  },
  {
   "cell_type": "code",
   "execution_count": 50,
   "metadata": {},
   "outputs": [],
   "source": [
    "class shape:\n",
    "    def area(self,a,b=0):\n",
    "        l=a\n",
    "        b=b\n",
    "        if b==0:\n",
    "            r=a\n",
    "            print(\"area of circle:\",3.14*r**2)\n",
    "        else:\n",
    "            print(\"area of rectangle:\",l*b)\n",
    "\n",
    "            "
   ]
  },
  {
   "cell_type": "code",
   "execution_count": 51,
   "metadata": {},
   "outputs": [],
   "source": [
    "solid=shape()"
   ]
  },
  {
   "cell_type": "code",
   "execution_count": 52,
   "metadata": {},
   "outputs": [
    {
     "name": "stdout",
     "output_type": "stream",
     "text": [
      "area of circle: 28.26\n"
     ]
    }
   ],
   "source": [
    "solid.area(3)"
   ]
  },
  {
   "cell_type": "code",
   "execution_count": 53,
   "metadata": {},
   "outputs": [
    {
     "name": "stdout",
     "output_type": "stream",
     "text": [
      "area of rectangle: 6\n"
     ]
    }
   ],
   "source": [
    "solid.area(2,3)"
   ]
  },
  {
   "cell_type": "code",
   "execution_count": null,
   "metadata": {},
   "outputs": [],
   "source": []
  }
 ],
 "metadata": {
  "kernelspec": {
   "display_name": "Python 3",
   "language": "python",
   "name": "python3"
  },
  "language_info": {
   "codemirror_mode": {
    "name": "ipython",
    "version": 3
   },
   "file_extension": ".py",
   "mimetype": "text/x-python",
   "name": "python",
   "nbconvert_exporter": "python",
   "pygments_lexer": "ipython3",
   "version": "3.11.3"
  },
  "orig_nbformat": 4
 },
 "nbformat": 4,
 "nbformat_minor": 2
}
