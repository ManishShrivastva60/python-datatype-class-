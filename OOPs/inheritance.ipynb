{
 "cells": [
  {
   "cell_type": "code",
   "execution_count": 1,
   "metadata": {},
   "outputs": [],
   "source": [
    "# single level inheritance"
   ]
  },
  {
   "cell_type": "code",
   "execution_count": 9,
   "metadata": {},
   "outputs": [],
   "source": [
    "\n",
    "\n",
    "class BPS:\n",
    "    def landhoner(self):\n",
    "        print(\"BPS is landlord\")\n",
    "\n",
    "class HT:\n",
    "    def bus(self):\n",
    "        print(\"HT has a bus\")\n",
    "\n",
    "class GT:\n",
    "    def IAS(self):\n",
    "        print(\"GT belong to IAS\")\n",
    "\n",
    "class JBPS:\n",
    "    def son(self):\n",
    "        print(\"JBPS is son of HT\")\n"
   ]
  },
  {
   "cell_type": "code",
   "execution_count": 10,
   "metadata": {},
   "outputs": [],
   "source": [
    "son=JBPS()"
   ]
  },
  {
   "cell_type": "code",
   "execution_count": 11,
   "metadata": {},
   "outputs": [
    {
     "name": "stdout",
     "output_type": "stream",
     "text": [
      "JBPS is son of HT\n"
     ]
    }
   ],
   "source": [
    "son.son()"
   ]
  },
  {
   "cell_type": "code",
   "execution_count": 12,
   "metadata": {},
   "outputs": [],
   "source": [
    "class BPS:\n",
    "    def landhoner(self):\n",
    "        print(\"BPS is landlord\")\n",
    "\n",
    "class HT:\n",
    "    def bus(self):\n",
    "        print(\"HT has a bus\")\n",
    "\n",
    "class GT:\n",
    "    def IAS(self):\n",
    "        print(\"GT belong to IAS\")\n",
    "\n",
    "class JBPS(HT):\n",
    "    def son(self):\n",
    "        print(\"JBPS is son of HT\")"
   ]
  },
  {
   "cell_type": "code",
   "execution_count": 13,
   "metadata": {},
   "outputs": [],
   "source": [
    "son=JBPS()"
   ]
  },
  {
   "cell_type": "code",
   "execution_count": 14,
   "metadata": {},
   "outputs": [
    {
     "name": "stdout",
     "output_type": "stream",
     "text": [
      "HT has a bus\n"
     ]
    }
   ],
   "source": [
    "son.bus()"
   ]
  },
  {
   "cell_type": "code",
   "execution_count": 15,
   "metadata": {},
   "outputs": [
    {
     "name": "stdout",
     "output_type": "stream",
     "text": [
      "JBPS is son of HT\n"
     ]
    }
   ],
   "source": [
    "son.son()"
   ]
  },
  {
   "cell_type": "code",
   "execution_count": 16,
   "metadata": {},
   "outputs": [],
   "source": [
    "# multi level inheritance"
   ]
  },
  {
   "cell_type": "code",
   "execution_count": 22,
   "metadata": {},
   "outputs": [],
   "source": [
    "class BPS:\n",
    "    def landhoner(self):\n",
    "        print(\"BPS is landlord\")\n",
    "\n",
    "class HT(BPS):\n",
    "    def bus(self):\n",
    "        print(\"HT has a bus\")\n",
    "\n",
    "class GT:\n",
    "    def IAS(self):\n",
    "        print(\"GT belong to IAS\")\n",
    "\n",
    "class JBPS(HT):\n",
    "    def son(self):\n",
    "        print(\"JBPS is son of HT\")"
   ]
  },
  {
   "cell_type": "code",
   "execution_count": 23,
   "metadata": {},
   "outputs": [],
   "source": [
    "son=JBPS()"
   ]
  },
  {
   "cell_type": "code",
   "execution_count": 25,
   "metadata": {},
   "outputs": [
    {
     "name": "stdout",
     "output_type": "stream",
     "text": [
      "BPS is landlord\n"
     ]
    }
   ],
   "source": [
    "son.landhoner()"
   ]
  },
  {
   "cell_type": "code",
   "execution_count": 27,
   "metadata": {},
   "outputs": [
    {
     "name": "stdout",
     "output_type": "stream",
     "text": [
      "HT has a bus\n"
     ]
    }
   ],
   "source": [
    "son.bus()"
   ]
  },
  {
   "cell_type": "code",
   "execution_count": null,
   "metadata": {},
   "outputs": [],
   "source": []
  }
 ],
 "metadata": {
  "kernelspec": {
   "display_name": "Python 3",
   "language": "python",
   "name": "python3"
  },
  "language_info": {
   "codemirror_mode": {
    "name": "ipython",
    "version": 3
   },
   "file_extension": ".py",
   "mimetype": "text/x-python",
   "name": "python",
   "nbconvert_exporter": "python",
   "pygments_lexer": "ipython3",
   "version": "3.11.3"
  },
  "orig_nbformat": 4
 },
 "nbformat": 4,
 "nbformat_minor": 2
}
