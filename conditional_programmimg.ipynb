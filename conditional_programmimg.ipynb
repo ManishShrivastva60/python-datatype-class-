{
 "cells": [
  {
   "cell_type": "code",
   "execution_count": 2,
   "metadata": {},
   "outputs": [],
   "source": [
    "# conditional programming\n",
    "#       > if else\n",
    "#       > if elif else\n",
    "#       > nested if else\n",
    "#       > nested if elif else\n"
   ]
  },
  {
   "cell_type": "code",
   "execution_count": 3,
   "metadata": {},
   "outputs": [
    {
     "name": "stdout",
     "output_type": "stream",
     "text": [
      "1020\n"
     ]
    }
   ],
   "source": [
    "a=input(\"kindly enter a number :\")\n",
    "b=input(\"kindly enter one more number\")\n",
    "print(a+b)"
   ]
  },
  {
   "cell_type": "code",
   "execution_count": 4,
   "metadata": {},
   "outputs": [
    {
     "name": "stdout",
     "output_type": "stream",
     "text": [
      "30\n"
     ]
    }
   ],
   "source": [
    "a=eval(input(\"kindly enter a number :\"))\n",
    "b=eval(input(\"kindly enter one more number\"))\n",
    "print(a+b)"
   ]
  },
  {
   "cell_type": "code",
   "execution_count": 5,
   "metadata": {},
   "outputs": [
    {
     "name": "stdout",
     "output_type": "stream",
     "text": [
      "-10\n"
     ]
    }
   ],
   "source": [
    "a=eval(input(\"kindly enter a number :\"))\n",
    "b=eval(input(\"kindly enter one more number\"))\n",
    "print(a-b)"
   ]
  },
  {
   "cell_type": "code",
   "execution_count": 6,
   "metadata": {},
   "outputs": [
    {
     "name": "stdout",
     "output_type": "stream",
     "text": [
      "10\n"
     ]
    }
   ],
   "source": [
    "print(a)"
   ]
  },
  {
   "cell_type": "code",
   "execution_count": 7,
   "metadata": {},
   "outputs": [
    {
     "name": "stdout",
     "output_type": "stream",
     "text": [
      "20\n"
     ]
    }
   ],
   "source": [
    "print(b)"
   ]
  },
  {
   "cell_type": "code",
   "execution_count": 15,
   "metadata": {},
   "outputs": [
    {
     "name": "stdout",
     "output_type": "stream",
     "text": [
      "10\n"
     ]
    }
   ],
   "source": [
    "a=eval(input(\"kindly enter a number :\"))\n",
    "b=eval(input(\"kindly enter one more number\"))\n",
    "\n",
    "if a>b:\n",
    "    print(a-b)\n",
    "else:\n",
    "    print(b-a)\n"
   ]
  },
  {
   "cell_type": "code",
   "execution_count": 16,
   "metadata": {},
   "outputs": [
    {
     "name": "stdout",
     "output_type": "stream",
     "text": [
      "10\n"
     ]
    }
   ],
   "source": [
    "a=eval(input(\"kindly enter a number :\"))\n",
    "b=eval(input(\"kindly enter one more number\"))\n",
    "\n",
    "if a>b:\n",
    "    pass\n",
    "else:\n",
    "    a,b=b,a\n",
    "\n",
    "print(a-b)\n"
   ]
  },
  {
   "cell_type": "code",
   "execution_count": 19,
   "metadata": {},
   "outputs": [
    {
     "name": "stdout",
     "output_type": "stream",
     "text": [
      "10\n",
      "hello world\n"
     ]
    }
   ],
   "source": [
    "a=eval(input(\"kindly enter a number :\"))\n",
    "b=eval(input(\"kindly enter one more number\"))\n",
    "\n",
    "if a>b:\n",
    "    print(a-b)\n",
    "    print(\"hello world\")\n",
    "    \n",
    "else:\n",
    "    print(b-a)\n"
   ]
  },
  {
   "cell_type": "code",
   "execution_count": 21,
   "metadata": {},
   "outputs": [
    {
     "name": "stdout",
     "output_type": "stream",
     "text": [
      "hello world\n"
     ]
    }
   ],
   "source": [
    "a=eval(input(\"kindly enter a number :\"))\n",
    "b=eval(input(\"kindly enter one more number\"))\n",
    "\n",
    "if a>b:\n",
    "    print(a-b)\n",
    "    print(\"hello world\")\n",
    "print(\"hello world\")\n",
    "    \n"
   ]
  },
  {
   "cell_type": "code",
   "execution_count": 22,
   "metadata": {},
   "outputs": [
    {
     "name": "stdout",
     "output_type": "stream",
     "text": [
      "10\n",
      "hello world\n",
      "hello world\n"
     ]
    }
   ],
   "source": [
    "a=eval(input(\"kindly enter a number :\"))\n",
    "b=eval(input(\"kindly enter one more number\"))\n",
    "\n",
    "if a>b:\n",
    "    print(a-b)\n",
    "    print(\"hello world\")\n",
    "print(\"hello world\")\n",
    "    \n"
   ]
  },
  {
   "cell_type": "code",
   "execution_count": 23,
   "metadata": {},
   "outputs": [
    {
     "name": "stdout",
     "output_type": "stream",
     "text": [
      "10\n",
      "hello world\n",
      "hello world\n"
     ]
    }
   ],
   "source": [
    "a=eval(input(\"kindly enter a number :\"))\n",
    "b=eval(input(\"kindly enter one more number\"))\n",
    "\n",
    "if a>b:\n",
    "    print(a-b)\n",
    "    print(\"hello world\")\n",
    "    print(\"hello world\")\n",
    "else:\n",
    "    print(b-a)"
   ]
  },
  {
   "cell_type": "code",
   "execution_count": 24,
   "metadata": {},
   "outputs": [
    {
     "name": "stdout",
     "output_type": "stream",
     "text": [
      "100\n"
     ]
    }
   ],
   "source": [
    "a=eval(input(\"kindly enter a number :\"))\n",
    "b=eval(input(\"kindly enter one more number\"))\n",
    "\n",
    "if a>b:\n",
    "    print(a-b)\n",
    "elif a==b:\n",
    "    print(a*b)\n",
    "else:\n",
    "    print(b-a)\n",
    "    \n"
   ]
  },
  {
   "cell_type": "code",
   "execution_count": null,
   "metadata": {},
   "outputs": [],
   "source": [
    "a=eval(input(\"kindly enter a number :\"))\n",
    "b=eval(input(\"kindly enter one more number\"))\n",
    "\n",
    "if a>b:\n",
    "    print(a-b)\n",
    "elif a==b:\n",
    "    print(a*b)\n",
    "else:\n",
    "    print(b-a)\n",
    "    \n"
   ]
  },
  {
   "cell_type": "code",
   "execution_count": 1,
   "metadata": {},
   "outputs": [
    {
     "name": "stdout",
     "output_type": "stream",
     "text": [
      "10\n"
     ]
    }
   ],
   "source": [
    "a=eval(input(\"kindly enter a number :\"))\n",
    "b=eval(input(\"kindly enter one more number\"))\n",
    "\n",
    "if a>b:\n",
    "    print(a-b)\n",
    "    if a==b:\n",
    "        print(\"my name is manish kumar shrivastva :\")\n",
    "    else:\n",
    "        print(\"good bye\")\n",
    "else:\n",
    "    print(b-a)\n",
    "    \n"
   ]
  },
  {
   "cell_type": "code",
   "execution_count": 2,
   "metadata": {},
   "outputs": [
    {
     "name": "stdout",
     "output_type": "stream",
     "text": [
      "10\n",
      "my name is manish kumar shrivastva :\n"
     ]
    }
   ],
   "source": [
    "a=eval(input(\"kindly enter a number :\"))\n",
    "b=eval(input(\"kindly enter one more number\"))\n",
    "c=eval(input(\"please enter your third number :\"))\n",
    "\n",
    "if a>b:\n",
    "    print(a-b)\n",
    "    if a==c:\n",
    "        print(\"my name is manish kumar shrivastva :\")\n",
    "    else:\n",
    "        print(\"good bye\")\n",
    "else:\n",
    "    print(b-a)"
   ]
  },
  {
   "cell_type": "code",
   "execution_count": 4,
   "metadata": {},
   "outputs": [
    {
     "name": "stdout",
     "output_type": "stream",
     "text": [
      "10\n",
      "my name is manish kumar shrivastva :\n",
      "123456789\n"
     ]
    }
   ],
   "source": [
    "a=eval(input(\"kindly enter a number :\"))\n",
    "b=eval(input(\"kindly enter one more number\"))\n",
    "c=eval(input(\"please enter your third number :\"))\n",
    "d=eval(input(\"please enter your four number :\"))\n",
    "e=eval(input(\"please enter your five number :\"))\n",
    "\n",
    "if a>b:\n",
    "    print(a-b)\n",
    "    if a==c:\n",
    "        print(\"my name is manish kumar shrivastva :\")\n",
    "    if a<e:\n",
    "        print(\"123456789\")\n",
    "    elif a!=d:\n",
    "        print(\"this is rahul form up\")\n",
    "    else:\n",
    "        print(\"good bye\")\n",
    "else:\n",
    "    print(b-a)\n"
   ]
  },
  {
   "cell_type": "code",
   "execution_count": 6,
   "metadata": {},
   "outputs": [
    {
     "name": "stdout",
     "output_type": "stream",
     "text": [
      "10\n",
      "my name is manish kumar shrivastva :\n",
      "123456789\n",
      "12 20 30 40 50\n",
      "10.20,5.5,3.5\n"
     ]
    }
   ],
   "source": [
    "a=eval(input(\"kindly enter a number :\"))\n",
    "b=eval(input(\"kindly enter one more number\"))\n",
    "c=eval(input(\"please enter your third number :\"))\n",
    "d=eval(input(\"please enter your four number :\"))\n",
    "e=eval(input(\"please enter your five number :\"))\n",
    "f=eval(input(\"please enter your six number :\"))\n",
    "g=eval(input(\"please enter your seven number :\"))\n",
    "\n",
    "if a>b:\n",
    "    print(a-b)\n",
    "    if a==c:\n",
    "        print(\"my name is manish kumar shrivastva :\")\n",
    "    if a<e:\n",
    "        print(\"123456789\")\n",
    "        if e>f:\n",
    "            print(12,20,30,40,50)\n",
    "            if f<g:\n",
    "                print(\"10.20,5.5,3.5\")\n",
    "    elif a!=d:\n",
    "        print(\"this is rahul form up\")\n",
    "    else:\n",
    "        print(\"good bye\")\n",
    "else:\n",
    "    print(b-a)\n",
    "    if b<c:\n",
    "        print(a*b)\n",
    "    else:\n",
    "        print(\"i am manish\")"
   ]
  },
  {
   "cell_type": "code",
   "execution_count": 9,
   "metadata": {},
   "outputs": [
    {
     "name": "stdout",
     "output_type": "stream",
     "text": [
      "20\n",
      "this is rahul form up\n"
     ]
    }
   ],
   "source": [
    "a=eval(input(\"kindly enter a number :\"))\n",
    "b=eval(input(\"kindly enter one more number\"))\n",
    "c=eval(input(\"please enter your third number :\"))\n",
    "d=eval(input(\"please enter your four number :\"))\n",
    "e=eval(input(\"please enter your five number :\"))\n",
    "f=eval(input(\"please enter your six number :\"))\n",
    "g=eval(input(\"please enter your seven number :\"))\n",
    "\n",
    "if a>b:\n",
    "    print(a-b)\n",
    "    if a==c:\n",
    "        print(\"my name is manish kumar shrivastva :\")\n",
    "    if a<e:\n",
    "        print(\"123456789\")\n",
    "        if e>f:\n",
    "            print(12,20,30,40,50)\n",
    "            if f<g:\n",
    "                print(\"10.20,5.5,3.5\")\n",
    "    elif a!=d:\n",
    "        print(\"this is rahul form up\")\n",
    "else:\n",
    "    print(b-a)\n",
    "    if e==g:\n",
    "         print(a*b)\n"
   ]
  },
  {
   "cell_type": "code",
   "execution_count": 10,
   "metadata": {},
   "outputs": [
    {
     "name": "stdout",
     "output_type": "stream",
     "text": [
      "20\n"
     ]
    }
   ],
   "source": [
    "a=eval(input(\"kindly enter a number :\"))\n",
    "b=eval(input(\"kindly enter one more number\"))\n",
    "c=eval(input(\"please enter your third number :\"))\n",
    "d=eval(input(\"please enter your four number :\"))\n",
    "e=eval(input(\"please enter your five number :\"))\n",
    "f=eval(input(\"please enter your six number :\"))\n",
    "g=eval(input(\"please enter your seven number :\"))\n",
    "\n",
    "if a>b:\n",
    "    print(a-b)\n",
    "    if a==c:\n",
    "        print(\"my name is manish kumar shrivastva :\")\n",
    "    if a<e:\n",
    "        print(\"123456789\")\n",
    "        if e>f:\n",
    "            print(12,20,30,40,50)\n",
    "            if f<g:\n",
    "                print(\"10.20,5.5,3.5\")\n",
    "elif a!=d:\n",
    "    print(\"this is rahul form up\")\n",
    "else:\n",
    "    print(b-a)\n",
    "    if e==g:\n",
    "         print(a*b)\n"
   ]
  },
  {
   "cell_type": "code",
   "execution_count": 12,
   "metadata": {},
   "outputs": [
    {
     "name": "stdout",
     "output_type": "stream",
     "text": [
      "20\n",
      "800\n"
     ]
    }
   ],
   "source": [
    "a=eval(input(\"kindly enter a number :\"))\n",
    "b=eval(input(\"kindly enter one more number\"))\n",
    "c=eval(input(\"please enter your third number :\"))\n",
    "d=eval(input(\"please enter your four number :\"))\n",
    "e=eval(input(\"please enter your five number :\"))\n",
    "f=eval(input(\"please enter your six number :\"))\n",
    "g=eval(input(\"please enter your seven number :\"))\n",
    "\n",
    "if a>b:\n",
    "    print(a-b)\n",
    "    if a==c:\n",
    "        print(\"my name is manish kumar shrivastva :\")\n",
    "    if a<e:\n",
    "        print(\"123456789\")\n",
    "        if e>f:\n",
    "            print(12,20,30,40,50)\n",
    "            if f<g:\n",
    "                print(\"10.20,5.5,3.5\")\n",
    "elif a==d:\n",
    "    print(\"this is rahul form up\")\n",
    "else:\n",
    "    print(b-a)\n",
    "    if e==g:\n",
    "         print(a*b)\n",
    "    \n"
   ]
  },
  {
   "cell_type": "code",
   "execution_count": 14,
   "metadata": {},
   "outputs": [
    {
     "name": "stdout",
     "output_type": "stream",
     "text": [
      "20\n",
      "800\n"
     ]
    }
   ],
   "source": [
    "a=eval(input(\"kindly enter a number :\"))\n",
    "b=eval(input(\"kindly enter one more number\"))\n",
    "c=eval(input(\"please enter your third number :\"))\n",
    "d=eval(input(\"please enter your four number :\"))\n",
    "e=eval(input(\"please enter your five number :\"))\n",
    "f=eval(input(\"please enter your six number :\"))\n",
    "g=eval(input(\"please enter your seven number :\"))\n",
    "\n",
    "if a>b:\n",
    "    print(a-b)\n",
    "    if a==c:\n",
    "        print(\"my name is manish kumar shrivastva :\")\n",
    "    if a<e:\n",
    "        print(\"123456789\")\n",
    "        if e>f:\n",
    "            print(12,20,30,40,50)\n",
    "            if f<g:\n",
    "                print(\"10.20,5.5,3.5\")\n",
    "elif a==d:\n",
    "    print(\"this is rahul form up\")\n",
    "else:\n",
    "    print(b-a)\n",
    "    if e==g:\n",
    "        print(a*b)\n",
    "     \n",
    "    \n"
   ]
  },
  {
   "cell_type": "code",
   "execution_count": 6,
   "metadata": {},
   "outputs": [
    {
     "name": "stdout",
     "output_type": "stream",
     "text": [
      "i am manish\n"
     ]
    }
   ],
   "source": [
    "# ternary operator\n",
    "\n",
    "\n",
    "\n",
    "if 2<5:\n",
    "    print(\"i am manish\")\n",
    "else:\n",
    "    print(\"i am student\")"
   ]
  },
  {
   "cell_type": "code",
   "execution_count": 7,
   "metadata": {},
   "outputs": [
    {
     "name": "stdout",
     "output_type": "stream",
     "text": [
      "i am manish\n"
     ]
    }
   ],
   "source": [
    "print(\"i am manish\") if 2<5 else print(\"i am student\")"
   ]
  },
  {
   "cell_type": "code",
   "execution_count": 8,
   "metadata": {},
   "outputs": [
    {
     "name": "stdout",
     "output_type": "stream",
     "text": [
      "i am student\n"
     ]
    }
   ],
   "source": [
    "print(\"i am manish\") if 7<5 else print(\"i am student\")"
   ]
  },
  {
   "cell_type": "code",
   "execution_count": 18,
   "metadata": {},
   "outputs": [
    {
     "name": "stdout",
     "output_type": "stream",
     "text": [
      "i am manish\n"
     ]
    }
   ],
   "source": [
    "print(\"i am manish\") if 3<5 else print(\"i am student\")"
   ]
  },
  {
   "cell_type": "code",
   "execution_count": null,
   "metadata": {},
   "outputs": [],
   "source": []
  },
  {
   "cell_type": "code",
   "execution_count": null,
   "metadata": {},
   "outputs": [],
   "source": []
  }
 ],
 "metadata": {
  "kernelspec": {
   "display_name": "Python 3",
   "language": "python",
   "name": "python3"
  },
  "language_info": {
   "codemirror_mode": {
    "name": "ipython",
    "version": 3
   },
   "file_extension": ".py",
   "mimetype": "text/x-python",
   "name": "python",
   "nbconvert_exporter": "python",
   "pygments_lexer": "ipython3",
   "version": "3.11.3"
  },
  "orig_nbformat": 4
 },
 "nbformat": 4,
 "nbformat_minor": 2
}
