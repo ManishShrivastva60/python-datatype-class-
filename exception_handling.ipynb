{
 "cells": [
  {
   "cell_type": "code",
   "execution_count": 1,
   "id": "b3e55515-9e9d-4589-9da6-4f693d5599de",
   "metadata": {},
   "outputs": [],
   "source": [
    "#  error are a two type\n",
    "#     > compile time error\n",
    "#         >\n",
    "        \n",
    "#     > runtime error"
   ]
  },
  {
   "cell_type": "code",
   "execution_count": 2,
   "id": "96eaa2a4-bf41-4e30-97f2-071132897a91",
   "metadata": {},
   "outputs": [
    {
     "ename": "SyntaxError",
     "evalue": "unterminated string literal (detected at line 1) (3133449829.py, line 1)",
     "output_type": "error",
     "traceback": [
      "\u001b[1;36m  Cell \u001b[1;32mIn[2], line 1\u001b[1;36m\u001b[0m\n\u001b[1;33m    print(\"hello world)\u001b[0m\n\u001b[1;37m          ^\u001b[0m\n\u001b[1;31mSyntaxError\u001b[0m\u001b[1;31m:\u001b[0m unterminated string literal (detected at line 1)\n"
     ]
    }
   ],
   "source": [
    "print(\"hello world)"
   ]
  },
  {
   "cell_type": "code",
   "execution_count": 3,
   "id": "1eeda907-838a-414d-a2de-c189c1e87ccd",
   "metadata": {},
   "outputs": [],
   "source": [
    "# example of runtime error"
   ]
  },
  {
   "cell_type": "code",
   "execution_count": 4,
   "id": "467f9797-1c68-4d3c-a47c-be5b191cfe8f",
   "metadata": {},
   "outputs": [
    {
     "name": "stdin",
     "output_type": "stream",
     "text": [
      "enter your number 10\n"
     ]
    },
    {
     "ename": "ZeroDivisionError",
     "evalue": "division by zero",
     "output_type": "error",
     "traceback": [
      "\u001b[1;31m---------------------------------------------------------------------------\u001b[0m",
      "\u001b[1;31mZeroDivisionError\u001b[0m                         Traceback (most recent call last)",
      "Cell \u001b[1;32mIn[4], line 2\u001b[0m\n\u001b[0;32m      1\u001b[0m a\u001b[38;5;241m=\u001b[39m\u001b[38;5;28mint\u001b[39m(\u001b[38;5;28minput\u001b[39m(\u001b[38;5;124m\"\u001b[39m\u001b[38;5;124menter your number\u001b[39m\u001b[38;5;124m\"\u001b[39m))\n\u001b[1;32m----> 2\u001b[0m \u001b[38;5;28mprint\u001b[39m(\u001b[43ma\u001b[49m\u001b[38;5;241;43m/\u001b[39;49m\u001b[38;5;241;43m0\u001b[39;49m)\n",
      "\u001b[1;31mZeroDivisionError\u001b[0m: division by zero"
     ]
    }
   ],
   "source": [
    "a=int(input(\"enter your number\"))\n",
    "print(a/0)"
   ]
  },
  {
   "cell_type": "code",
   "execution_count": 5,
   "id": "2f6973c7-28bf-4320-8840-85650dab4adc",
   "metadata": {},
   "outputs": [
    {
     "name": "stdin",
     "output_type": "stream",
     "text": [
      "enter your number 10\n"
     ]
    },
    {
     "ename": "ZeroDivisionError",
     "evalue": "division by zero",
     "output_type": "error",
     "traceback": [
      "\u001b[1;31m---------------------------------------------------------------------------\u001b[0m",
      "\u001b[1;31mZeroDivisionError\u001b[0m                         Traceback (most recent call last)",
      "Cell \u001b[1;32mIn[5], line 2\u001b[0m\n\u001b[0;32m      1\u001b[0m b\u001b[38;5;241m=\u001b[39m\u001b[38;5;28mint\u001b[39m(\u001b[38;5;28minput\u001b[39m(\u001b[38;5;124m\"\u001b[39m\u001b[38;5;124menter your number\u001b[39m\u001b[38;5;124m\"\u001b[39m))\n\u001b[1;32m----> 2\u001b[0m \u001b[38;5;28mprint\u001b[39m(\u001b[43mb\u001b[49m\u001b[38;5;241;43m/\u001b[39;49m\u001b[38;5;241;43m0\u001b[39;49m)\n\u001b[0;32m      3\u001b[0m \u001b[38;5;28mprint\u001b[39m(\u001b[38;5;124m\"\u001b[39m\u001b[38;5;124mhello world\u001b[39m\u001b[38;5;124m\"\u001b[39m)\n",
      "\u001b[1;31mZeroDivisionError\u001b[0m: division by zero"
     ]
    }
   ],
   "source": [
    "b=int(input(\"enter your number\"))\n",
    "print(b/0)\n",
    "print(\"hello world\")"
   ]
  },
  {
   "cell_type": "code",
   "execution_count": 9,
   "id": "bb06b459-ca37-4b9f-9d4d-645579cd9068",
   "metadata": {},
   "outputs": [
    {
     "name": "stdin",
     "output_type": "stream",
     "text": [
      "enter your number 120\n"
     ]
    },
    {
     "name": "stdout",
     "output_type": "stream",
     "text": [
      "i am manish\n",
      "hello world\n"
     ]
    }
   ],
   "source": [
    "try:\n",
    "    b=int(input(\"enter your number\"))\n",
    "    print(b/0)\n",
    "except:\n",
    "    print(\"i am manish\")\n",
    "    print(\"hello world\")"
   ]
  },
  {
   "cell_type": "code",
   "execution_count": 11,
   "id": "0ebc4eae-081d-4741-a504-4463ae7aa8ca",
   "metadata": {},
   "outputs": [
    {
     "name": "stdin",
     "output_type": "stream",
     "text": [
      "enter your number 20\n"
     ]
    },
    {
     "name": "stdout",
     "output_type": "stream",
     "text": [
      "i am manish\n",
      "hello world\n"
     ]
    }
   ],
   "source": [
    "try:\n",
    "    b=int(input(\"enter your number\"))\n",
    "    print(b/0)\n",
    "except ZeroDivisionError:\n",
    "    print(\"i am manish\")\n",
    "    print(\"hello world\")"
   ]
  },
  {
   "cell_type": "code",
   "execution_count": 12,
   "id": "7cc2e4fb-b674-498f-b0a1-6b3aa0d273ba",
   "metadata": {},
   "outputs": [
    {
     "name": "stdin",
     "output_type": "stream",
     "text": [
      "enter your number 30\n"
     ]
    },
    {
     "name": "stdout",
     "output_type": "stream",
     "text": [
      "i am manish division by zero\n",
      "hello world\n"
     ]
    }
   ],
   "source": [
    "try:\n",
    "    b=int(input(\"enter your number\"))\n",
    "    print(b/0)\n",
    "except ZeroDivisionError as e:\n",
    "    print(\"i am manish\",e)\n",
    "    print(\"hello world\")"
   ]
  },
  {
   "cell_type": "code",
   "execution_count": 13,
   "id": "af969c66-7cd6-439e-b309-539f6525ce3d",
   "metadata": {},
   "outputs": [
    {
     "name": "stdin",
     "output_type": "stream",
     "text": [
      "enter your number 10.0\n"
     ]
    },
    {
     "ename": "ValueError",
     "evalue": "invalid literal for int() with base 10: '10.0'",
     "output_type": "error",
     "traceback": [
      "\u001b[1;31m---------------------------------------------------------------------------\u001b[0m",
      "\u001b[1;31mValueError\u001b[0m                                Traceback (most recent call last)",
      "Cell \u001b[1;32mIn[13], line 2\u001b[0m\n\u001b[0;32m      1\u001b[0m \u001b[38;5;28;01mtry\u001b[39;00m:\n\u001b[1;32m----> 2\u001b[0m     b\u001b[38;5;241m=\u001b[39m\u001b[38;5;28;43mint\u001b[39;49m\u001b[43m(\u001b[49m\u001b[38;5;28;43minput\u001b[39;49m\u001b[43m(\u001b[49m\u001b[38;5;124;43m\"\u001b[39;49m\u001b[38;5;124;43menter your number\u001b[39;49m\u001b[38;5;124;43m\"\u001b[39;49m\u001b[43m)\u001b[49m\u001b[43m)\u001b[49m\n\u001b[0;32m      3\u001b[0m     \u001b[38;5;28mprint\u001b[39m(b\u001b[38;5;241m/\u001b[39m\u001b[38;5;241m0\u001b[39m)\n\u001b[0;32m      4\u001b[0m \u001b[38;5;28;01mexcept\u001b[39;00m \u001b[38;5;167;01mZeroDivisionError\u001b[39;00m \u001b[38;5;28;01mas\u001b[39;00m e:\n",
      "\u001b[1;31mValueError\u001b[0m: invalid literal for int() with base 10: '10.0'"
     ]
    }
   ],
   "source": [
    "try:\n",
    "    b=int(input(\"enter your number\"))\n",
    "    print(b/0)\n",
    "except ZeroDivisionError as e:\n",
    "    print(\"i am manish\",e)\n",
    "    print(\"hello world\")"
   ]
  },
  {
   "cell_type": "code",
   "execution_count": 18,
   "id": "8f448e77-afb3-4207-9742-a97aeb1cea8c",
   "metadata": {},
   "outputs": [
    {
     "name": "stdin",
     "output_type": "stream",
     "text": [
      "enter your number 10.0\n"
     ]
    },
    {
     "name": "stdout",
     "output_type": "stream",
     "text": [
      "i am a engineer\n",
      "hello world\n"
     ]
    }
   ],
   "source": [
    "try:\n",
    "    b=int(input(\"enter your number\"))\n",
    "except ZeroDivisionError as e:\n",
    "    print(\"i am manish\",e)\n",
    "except ValueError:\n",
    "    print(\"i am a engineer\")\n",
    "    print(\"hello world\")"
   ]
  },
  {
   "cell_type": "code",
   "execution_count": 21,
   "id": "294993e3-3ddf-4e5e-8d0a-a533eeb51ce9",
   "metadata": {},
   "outputs": [
    {
     "name": "stdin",
     "output_type": "stream",
     "text": [
      "enter your number 10.0\n"
     ]
    },
    {
     "name": "stdout",
     "output_type": "stream",
     "text": [
      "out of service\n",
      "hello world\n"
     ]
    }
   ],
   "source": [
    "try:\n",
    "    b=int(input(\"enter your number\"))\n",
    "except ZeroDivisionError as e:\n",
    "    print(\"i am manish\",e)\n",
    "except Exception:\n",
    "    print(\"out of service\")\n",
    "    print(\"hello world\")"
   ]
  },
  {
   "cell_type": "code",
   "execution_count": 1,
   "id": "798d707c-67d6-45d3-918d-4d35f52719f3",
   "metadata": {},
   "outputs": [
    {
     "name": "stdin",
     "output_type": "stream",
     "text": [
      "enter your number krishna\n"
     ]
    },
    {
     "name": "stdout",
     "output_type": "stream",
     "text": [
      "i am a engineer\n",
      "hello world\n"
     ]
    }
   ],
   "source": [
    "try:\n",
    "    b=int(input(\"enter your number\"))\n",
    "except ZeroDivisionError as e:\n",
    "    print(\"i am manish\",e)\n",
    "except ValueError:\n",
    "    print(\"i am a engineer\")\n",
    "finally:\n",
    "    print(\"hello world\")"
   ]
  },
  {
   "cell_type": "code",
   "execution_count": 2,
   "id": "cb3bedf9-05bc-463d-a4a1-022481834cc7",
   "metadata": {},
   "outputs": [
    {
     "name": "stdin",
     "output_type": "stream",
     "text": [
      "enter your number 10\n"
     ]
    },
    {
     "name": "stdout",
     "output_type": "stream",
     "text": [
      "welcome to kotak mahindra bank\n"
     ]
    }
   ],
   "source": [
    "try:\n",
    "    b=int(input(\"enter your number\"))\n",
    "except ZeroDivisionError as e:\n",
    "    print(\"i am manish\",e)\n",
    "except ValueError:\n",
    "    print(\"i am a engineer\")\n",
    "else:\n",
    "    print(\"welcome to kotak mahindra bank\")"
   ]
  },
  {
   "cell_type": "code",
   "execution_count": 7,
   "id": "d5c50fb8-6138-42f8-9b4f-283fbfcf381b",
   "metadata": {},
   "outputs": [
    {
     "name": "stdin",
     "output_type": "stream",
     "text": [
      "enter your number 10\n"
     ]
    },
    {
     "ename": "Exception",
     "evalue": "this is a error",
     "output_type": "error",
     "traceback": [
      "\u001b[1;31m---------------------------------------------------------------------------\u001b[0m",
      "\u001b[1;31mException\u001b[0m                                 Traceback (most recent call last)",
      "Cell \u001b[1;32mIn[7], line 4\u001b[0m\n\u001b[0;32m      2\u001b[0m     b\u001b[38;5;241m=\u001b[39m\u001b[38;5;28mint\u001b[39m(\u001b[38;5;28minput\u001b[39m(\u001b[38;5;124m\"\u001b[39m\u001b[38;5;124menter your number\u001b[39m\u001b[38;5;124m\"\u001b[39m))\n\u001b[0;32m      3\u001b[0m     \u001b[38;5;28;01mif\u001b[39;00m b\u001b[38;5;241m==\u001b[39m\u001b[38;5;241m10\u001b[39m:\n\u001b[1;32m----> 4\u001b[0m         \u001b[38;5;28;01mraise\u001b[39;00m \u001b[38;5;167;01mException\u001b[39;00m(\u001b[38;5;124m\"\u001b[39m\u001b[38;5;124mthis is a error\u001b[39m\u001b[38;5;124m\"\u001b[39m)\n\u001b[0;32m      5\u001b[0m \u001b[38;5;28;01mexcept\u001b[39;00m \u001b[38;5;167;01mZeroDivisionError\u001b[39;00m \u001b[38;5;28;01mas\u001b[39;00m e:\n\u001b[0;32m      6\u001b[0m     \u001b[38;5;28mprint\u001b[39m(\u001b[38;5;124m\"\u001b[39m\u001b[38;5;124mi am manish\u001b[39m\u001b[38;5;124m\"\u001b[39m,e)\n",
      "\u001b[1;31mException\u001b[0m: this is a error"
     ]
    }
   ],
   "source": [
    "try:\n",
    "    b=int(input(\"enter your number\"))\n",
    "    if b==10:\n",
    "        raise Exception(\"this is a error\")\n",
    "except ZeroDivisionError as e:\n",
    "    print(\"i am manish\",e)\n",
    "except ValueError:\n",
    "    print(\"i am a engineer\")\n",
    "else:\n",
    "    print(\"welcome to kotak mahindra bank\")"
   ]
  },
  {
   "cell_type": "code",
   "execution_count": 9,
   "id": "ba16b41a-a9f7-4298-a954-5d65a4f7913e",
   "metadata": {},
   "outputs": [
    {
     "name": "stdin",
     "output_type": "stream",
     "text": [
      "enter your number 10\n"
     ]
    },
    {
     "name": "stdout",
     "output_type": "stream",
     "text": [
      "this is a error\n"
     ]
    }
   ],
   "source": [
    "try:\n",
    "    b=int(input(\"enter your number\"))\n",
    "    if b==10:\n",
    "        raise Exception(\"this is a error\")\n",
    "except ZeroDivisionError as e:\n",
    "    print(\"i am manish\",e)\n",
    "except ValueError:\n",
    "    print(\"i am a engineer\")\n",
    "except Exception as e:\n",
    "    print(e)\n",
    "else:\n",
    "    print(\"welcome to kotak mahindra bank\")"
   ]
  },
  {
   "cell_type": "code",
   "execution_count": 10,
   "id": "71581d2e-619d-4a1d-9028-232a104708cd",
   "metadata": {},
   "outputs": [
    {
     "name": "stdin",
     "output_type": "stream",
     "text": [
      "enter your number 12\n"
     ]
    },
    {
     "name": "stdout",
     "output_type": "stream",
     "text": [
      "welcome to kotak mahindra bank\n"
     ]
    }
   ],
   "source": [
    "try:\n",
    "    b=int(input(\"enter your number\"))\n",
    "    if b==10:\n",
    "        raise Exception(\"this is a error\")\n",
    "except ZeroDivisionError as e:\n",
    "    print(\"i am manish\",e)\n",
    "except ValueError:\n",
    "    print(\"i am a engineer\")\n",
    "except Exception as e:\n",
    "    print(e)\n",
    "else:\n",
    "    print(\"welcome to kotak mahindra bank\")"
   ]
  },
  {
   "cell_type": "code",
   "execution_count": 11,
   "id": "48e6f7d5-ec0e-42f7-bf0b-84cba173d11a",
   "metadata": {},
   "outputs": [
    {
     "name": "stdin",
     "output_type": "stream",
     "text": [
      "enter your number 10\n"
     ]
    },
    {
     "name": "stdout",
     "output_type": "stream",
     "text": [
      "this is a error\n",
      "bye bye\n"
     ]
    }
   ],
   "source": [
    "try:\n",
    "    b=int(input(\"enter your number\"))\n",
    "    if b==10:\n",
    "        raise Exception(\"this is a error\")\n",
    "except ZeroDivisionError as e:\n",
    "    print(\"i am manish\",e)\n",
    "except ValueError:\n",
    "    print(\"i am a engineer\")\n",
    "except Exception as e:\n",
    "    print(e)\n",
    "else:\n",
    "    print(\"welcome to kotak mahindra bank\")\n",
    "finally:\n",
    "    print(\"bye bye\")"
   ]
  },
  {
   "cell_type": "code",
   "execution_count": 12,
   "id": "dd44f16a-08ee-4d8e-b7ed-044e99e5a13b",
   "metadata": {},
   "outputs": [
    {
     "name": "stdin",
     "output_type": "stream",
     "text": [
      "enter your number 12\n"
     ]
    },
    {
     "name": "stdout",
     "output_type": "stream",
     "text": [
      "welcome to kotak mahindra bank\n",
      "bye bye\n"
     ]
    }
   ],
   "source": [
    "try:\n",
    "    b=int(input(\"enter your number\"))\n",
    "    if b==10:\n",
    "        raise Exception(\"this is a error\")\n",
    "except ZeroDivisionError as e:\n",
    "    print(\"i am manish\",e)\n",
    "except ValueError:\n",
    "    print(\"i am a engineer\")\n",
    "except Exception as e:\n",
    "    print(e)\n",
    "else:\n",
    "    print(\"welcome to kotak mahindra bank\")\n",
    "finally:\n",
    "    print(\"bye bye\")"
   ]
  },
  {
   "cell_type": "code",
   "execution_count": null,
   "id": "34971675-f246-456e-89fd-37549a3c3702",
   "metadata": {},
   "outputs": [],
   "source": []
  }
 ],
 "metadata": {
  "kernelspec": {
   "display_name": "Python 3 (ipykernel)",
   "language": "python",
   "name": "python3"
  },
  "language_info": {
   "codemirror_mode": {
    "name": "ipython",
    "version": 3
   },
   "file_extension": ".py",
   "mimetype": "text/x-python",
   "name": "python",
   "nbconvert_exporter": "python",
   "pygments_lexer": "ipython3",
   "version": "3.10.9"
  }
 },
 "nbformat": 4,
 "nbformat_minor": 5
}
