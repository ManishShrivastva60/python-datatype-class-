{
 "cells": [
  {
   "cell_type": "code",
   "execution_count": null,
   "metadata": {},
   "outputs": [],
   "source": [
    "# nested function"
   ]
  },
  {
   "cell_type": "code",
   "execution_count": 1,
   "metadata": {},
   "outputs": [],
   "source": [
    "# nested function"
   ]
  },
  {
   "cell_type": "code",
   "execution_count": 2,
   "metadata": {},
   "outputs": [],
   "source": [
    "def manish():\n",
    "    print(\"i am student\")"
   ]
  },
  {
   "cell_type": "code",
   "execution_count": 3,
   "metadata": {},
   "outputs": [
    {
     "name": "stdout",
     "output_type": "stream",
     "text": [
      "i am student\n"
     ]
    }
   ],
   "source": [
    "manish()"
   ]
  },
  {
   "cell_type": "code",
   "execution_count": 4,
   "metadata": {},
   "outputs": [
    {
     "name": "stdout",
     "output_type": "stream",
     "text": [
      "i am rahul\n",
      "i am student\n"
     ]
    }
   ],
   "source": [
    "print(\"i am rahul\")\n",
    "manish()"
   ]
  },
  {
   "cell_type": "code",
   "execution_count": 6,
   "metadata": {},
   "outputs": [
    {
     "name": "stdout",
     "output_type": "stream",
     "text": [
      "i am krishna\n",
      "i am student\n"
     ]
    }
   ],
   "source": [
    "def rakesh(manish):\n",
    "    def rahul():\n",
    "        print(\"i am krishna\")\n",
    "        manish()\n",
    "    return rahul\n",
    "\n",
    "b=rakesh(manish)\n",
    "b()"
   ]
  },
  {
   "cell_type": "code",
   "execution_count": 7,
   "metadata": {},
   "outputs": [
    {
     "name": "stdout",
     "output_type": "stream",
     "text": [
      "i am krishna\n",
      "i am student\n"
     ]
    }
   ],
   "source": [
    "def rakesh(arg):\n",
    "    def rahul():\n",
    "        print(\"i am krishna\")\n",
    "        arg()\n",
    "    return rahul\n",
    "\n",
    "b=rakesh(manish)\n",
    "b()"
   ]
  },
  {
   "cell_type": "code",
   "execution_count": 9,
   "metadata": {},
   "outputs": [],
   "source": [
    "def rakesh(arg):\n",
    "    def rahul():\n",
    "        print(\"i am krishna\")\n",
    "        arg()\n",
    "    return rahul\n",
    "\n",
    "\n",
    "@rakesh\n",
    "def manish():\n",
    "    print(\"i am student\")\n"
   ]
  },
  {
   "cell_type": "code",
   "execution_count": 10,
   "metadata": {},
   "outputs": [
    {
     "name": "stdout",
     "output_type": "stream",
     "text": [
      "i am krishna\n",
      "i am student\n"
     ]
    }
   ],
   "source": [
    "manish()"
   ]
  },
  {
   "cell_type": "code",
   "execution_count": null,
   "metadata": {},
   "outputs": [],
   "source": []
  }
 ],
 "metadata": {
  "kernelspec": {
   "display_name": "Python 3",
   "language": "python",
   "name": "python3"
  },
  "language_info": {
   "codemirror_mode": {
    "name": "ipython",
    "version": 3
   },
   "file_extension": ".py",
   "mimetype": "text/x-python",
   "name": "python",
   "nbconvert_exporter": "python",
   "pygments_lexer": "ipython3",
   "version": "3.11.3"
  },
  "orig_nbformat": 4
 },
 "nbformat": 4,
 "nbformat_minor": 2
}
